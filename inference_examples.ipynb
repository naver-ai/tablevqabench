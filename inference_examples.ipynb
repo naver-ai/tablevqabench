{
 "cells": [
  {
   "cell_type": "code",
   "execution_count": null,
   "metadata": {},
   "outputs": [],
   "source": [
    "import os\n",
    "import json\n",
    "from src.example_prompts import VWTQ_PROMPT, VTABFACT_PROMPT, FINTABNETQA_PROMPT\n",
    "from datasets import load_dataset, Dataset, Image\n",
    "\n",
    "dataset = load_dataset(path=\"terryoo/private_demo\")\n",
    "data_names = [\"vwtq\", \"vwtq_syn\", \"vtabfact\", \"fintabnetqa\"]\n",
    "\n",
    "root_output_path = \"./outputs\"\n",
    "model_name = \"example\" \n",
    "\n",
    "output_path = os.path.join(root_output_path, model_name)\n",
    "os.makedirs(output_path, exist_ok=True)    "
   ]
  },
  {
   "cell_type": "code",
   "execution_count": null,
   "metadata": {},
   "outputs": [],
   "source": [
    "def get_prompt(data_name):\n",
    "    if \"vwtq\" in data_name:\n",
    "        prompt = VWTQ_PROMPT\n",
    "    elif \"vtabfact\" == data_name:\n",
    "        prompt = VTABFACT_PROMPT\n",
    "    elif \"fintabnetqa\" == data_name:\n",
    "        prompt = FINTABNETQA_PROMPT\n",
    "    else:\n",
    "        print(f\"# [warn] non-matched prompt for {data_name}\")\n",
    "        prompt = \"\"\n",
    "    return prompt\n",
    "\n",
    "for data_name in data_names:\n",
    "    output_file = os.path.join(output_path, data_name+\".json\")    \n",
    "    data = dataset[data_name]\n",
    "    prompt = get_prompt(data_name)\n",
    "    outputs = []\n",
    "    for sample in data:\n",
    "        query = prompt.format_map({\"question\":sample[\"question\"]})        \n",
    "        img = sample[\"image\"]\n",
    "        pred = \"None\" # please change this line, for example: pred = model(img=img, query=query) \n",
    "        sample[\"pred\"] = pred\n",
    "        sample.pop(\"image\") #\n",
    "        sample.pop(\"text_html_table\") # optional: pop if you want lighter output file\n",
    "        sample.pop(\"text_markdown_table\") # optional: pop if you want lighter output file       \n",
    "        outputs.append(sample)\n",
    "    with open(output_file, \"w\", encoding=\"utf-8\") as outfile:\n",
    "        json.dump(outputs, outfile, ensure_ascii=False)\n",
    "    \n",
    "    "
   ]
  }
 ],
 "metadata": {
  "kernelspec": {
   "display_name": "vlm",
   "language": "python",
   "name": "python3"
  },
  "language_info": {
   "codemirror_mode": {
    "name": "ipython",
    "version": 3
   },
   "file_extension": ".py",
   "mimetype": "text/x-python",
   "name": "python",
   "nbconvert_exporter": "python",
   "pygments_lexer": "ipython3",
   "version": "3.8.13"
  }
 },
 "nbformat": 4,
 "nbformat_minor": 2
}
